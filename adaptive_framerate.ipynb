{
 "cells": [
  {
   "cell_type": "code",
   "execution_count": 4,
   "metadata": {},
   "outputs": [
    {
     "ename": "ImportError",
     "evalue": "cannot import name 'gmres' from partially initialized module 'scipy.sparse.linalg' (most likely due to a circular import) (c:\\Users\\kross\\anaconda3\\envs\\open-optical-gating\\lib\\site-packages\\scipy\\sparse\\linalg\\__init__.py)",
     "output_type": "error",
     "traceback": [
      "\u001b[1;31m---------------------------------------------------------------------------\u001b[0m",
      "\u001b[1;31mImportError\u001b[0m                               Traceback (most recent call last)",
      "\u001b[1;32mc:\\Users\\kross\\basic_optical_gating\\adaptive_framerate.ipynb Cell 1\u001b[0m in \u001b[0;36m<cell line: 1>\u001b[1;34m()\u001b[0m\n\u001b[1;32m----> <a href='vscode-notebook-cell:/c%3A/Users/kross/basic_optical_gating/adaptive_framerate.ipynb#W5sZmlsZQ%3D%3D?line=0'>1</a>\u001b[0m \u001b[39mfrom\u001b[39;00m \u001b[39mscipy\u001b[39;00m\u001b[39m.\u001b[39;00m\u001b[39moptimize\u001b[39;00m \u001b[39mimport\u001b[39;00m curve_fit\n",
      "File \u001b[1;32mc:\\Users\\kross\\anaconda3\\envs\\open-optical-gating\\lib\\site-packages\\scipy\\optimize\\__init__.py:400\u001b[0m, in \u001b[0;36m<module>\u001b[1;34m\u001b[0m\n\u001b[0;32m      1\u001b[0m \u001b[39m\"\"\"\u001b[39;00m\n\u001b[0;32m      2\u001b[0m \u001b[39m=====================================================\u001b[39;00m\n\u001b[0;32m      3\u001b[0m \u001b[39mOptimization and root finding (:mod:`scipy.optimize`)\u001b[39;00m\n\u001b[1;32m   (...)\u001b[0m\n\u001b[0;32m    397\u001b[0m \u001b[39m:mod:`Additional information on the nonlinear solvers <scipy.optimize.nonlin>`\u001b[39;00m\n\u001b[0;32m    398\u001b[0m \u001b[39m\"\"\"\u001b[39;00m\n\u001b[1;32m--> 400\u001b[0m \u001b[39mfrom\u001b[39;00m \u001b[39m.\u001b[39;00m\u001b[39moptimize\u001b[39;00m \u001b[39mimport\u001b[39;00m \u001b[39m*\u001b[39m\n\u001b[0;32m    401\u001b[0m \u001b[39mfrom\u001b[39;00m \u001b[39m.\u001b[39;00m\u001b[39m_minimize\u001b[39;00m \u001b[39mimport\u001b[39;00m \u001b[39m*\u001b[39m\n\u001b[0;32m    402\u001b[0m \u001b[39mfrom\u001b[39;00m \u001b[39m.\u001b[39;00m\u001b[39m_root\u001b[39;00m \u001b[39mimport\u001b[39;00m \u001b[39m*\u001b[39m\n",
      "File \u001b[1;32mc:\\Users\\kross\\anaconda3\\envs\\open-optical-gating\\lib\\site-packages\\scipy\\optimize\\optimize.py:36\u001b[0m, in \u001b[0;36m<module>\u001b[1;34m\u001b[0m\n\u001b[0;32m     32\u001b[0m \u001b[39mimport\u001b[39;00m \u001b[39mnumpy\u001b[39;00m \u001b[39mas\u001b[39;00m \u001b[39mnp\u001b[39;00m\n\u001b[0;32m     33\u001b[0m \u001b[39mfrom\u001b[39;00m \u001b[39m.\u001b[39;00m\u001b[39mlinesearch\u001b[39;00m \u001b[39mimport\u001b[39;00m (line_search_wolfe1, line_search_wolfe2,\n\u001b[0;32m     34\u001b[0m                          line_search_wolfe2 \u001b[39mas\u001b[39;00m line_search,\n\u001b[0;32m     35\u001b[0m                          LineSearchWarning)\n\u001b[1;32m---> 36\u001b[0m \u001b[39mfrom\u001b[39;00m \u001b[39m.\u001b[39;00m\u001b[39m_numdiff\u001b[39;00m \u001b[39mimport\u001b[39;00m approx_derivative\n\u001b[0;32m     37\u001b[0m \u001b[39mfrom\u001b[39;00m \u001b[39mscipy\u001b[39;00m\u001b[39m.\u001b[39;00m\u001b[39m_lib\u001b[39;00m\u001b[39m.\u001b[39;00m\u001b[39m_util\u001b[39;00m \u001b[39mimport\u001b[39;00m getfullargspec_no_self \u001b[39mas\u001b[39;00m _getfullargspec\n\u001b[0;32m     38\u001b[0m \u001b[39mfrom\u001b[39;00m \u001b[39mscipy\u001b[39;00m\u001b[39m.\u001b[39;00m\u001b[39m_lib\u001b[39;00m\u001b[39m.\u001b[39;00m\u001b[39m_util\u001b[39;00m \u001b[39mimport\u001b[39;00m MapWrapper\n",
      "File \u001b[1;32mc:\\Users\\kross\\anaconda3\\envs\\open-optical-gating\\lib\\site-packages\\scipy\\optimize\\_numdiff.py:6\u001b[0m, in \u001b[0;36m<module>\u001b[1;34m\u001b[0m\n\u001b[0;32m      3\u001b[0m \u001b[39mimport\u001b[39;00m \u001b[39mnumpy\u001b[39;00m \u001b[39mas\u001b[39;00m \u001b[39mnp\u001b[39;00m\n\u001b[0;32m      4\u001b[0m \u001b[39mfrom\u001b[39;00m \u001b[39mnumpy\u001b[39;00m\u001b[39m.\u001b[39;00m\u001b[39mlinalg\u001b[39;00m \u001b[39mimport\u001b[39;00m norm\n\u001b[1;32m----> 6\u001b[0m \u001b[39mfrom\u001b[39;00m \u001b[39mscipy\u001b[39;00m\u001b[39m.\u001b[39;00m\u001b[39msparse\u001b[39;00m\u001b[39m.\u001b[39;00m\u001b[39mlinalg\u001b[39;00m \u001b[39mimport\u001b[39;00m LinearOperator\n\u001b[0;32m      7\u001b[0m \u001b[39mfrom\u001b[39;00m \u001b[39m.\u001b[39;00m\u001b[39m.\u001b[39;00m\u001b[39msparse\u001b[39;00m \u001b[39mimport\u001b[39;00m issparse, csc_matrix, csr_matrix, coo_matrix, find\n\u001b[0;32m      8\u001b[0m \u001b[39mfrom\u001b[39;00m \u001b[39m.\u001b[39;00m\u001b[39m_group_columns\u001b[39;00m \u001b[39mimport\u001b[39;00m group_dense, group_sparse\n",
      "File \u001b[1;32mc:\\Users\\kross\\anaconda3\\envs\\open-optical-gating\\lib\\site-packages\\scipy\\sparse\\linalg\\__init__.py:114\u001b[0m, in \u001b[0;36m<module>\u001b[1;34m\u001b[0m\n\u001b[0;32m    112\u001b[0m \u001b[39mfrom\u001b[39;00m \u001b[39m.\u001b[39;00m\u001b[39mdsolve\u001b[39;00m \u001b[39mimport\u001b[39;00m \u001b[39m*\u001b[39m\n\u001b[0;32m    113\u001b[0m \u001b[39mfrom\u001b[39;00m \u001b[39m.\u001b[39;00m\u001b[39minterface\u001b[39;00m \u001b[39mimport\u001b[39;00m \u001b[39m*\u001b[39m\n\u001b[1;32m--> 114\u001b[0m \u001b[39mfrom\u001b[39;00m \u001b[39m.\u001b[39;00m\u001b[39meigen\u001b[39;00m \u001b[39mimport\u001b[39;00m \u001b[39m*\u001b[39m\n\u001b[0;32m    115\u001b[0m \u001b[39mfrom\u001b[39;00m \u001b[39m.\u001b[39;00m\u001b[39mmatfuncs\u001b[39;00m \u001b[39mimport\u001b[39;00m \u001b[39m*\u001b[39m\n\u001b[0;32m    116\u001b[0m \u001b[39mfrom\u001b[39;00m \u001b[39m.\u001b[39;00m\u001b[39m_onenormest\u001b[39;00m \u001b[39mimport\u001b[39;00m \u001b[39m*\u001b[39m\n",
      "File \u001b[1;32mc:\\Users\\kross\\anaconda3\\envs\\open-optical-gating\\lib\\site-packages\\scipy\\sparse\\linalg\\eigen\\__init__.py:9\u001b[0m, in \u001b[0;36m<module>\u001b[1;34m\u001b[0m\n\u001b[0;32m      1\u001b[0m \u001b[39m\"\"\"\u001b[39;00m\n\u001b[0;32m      2\u001b[0m \u001b[39mSparse Eigenvalue Solvers\u001b[39;00m\n\u001b[0;32m      3\u001b[0m \u001b[39m-------------------------\u001b[39;00m\n\u001b[1;32m   (...)\u001b[0m\n\u001b[0;32m      7\u001b[0m \n\u001b[0;32m      8\u001b[0m \u001b[39m\"\"\"\u001b[39;00m\n\u001b[1;32m----> 9\u001b[0m \u001b[39mfrom\u001b[39;00m \u001b[39m.\u001b[39;00m\u001b[39marpack\u001b[39;00m \u001b[39mimport\u001b[39;00m \u001b[39m*\u001b[39m\n\u001b[0;32m     10\u001b[0m \u001b[39mfrom\u001b[39;00m \u001b[39m.\u001b[39;00m\u001b[39mlobpcg\u001b[39;00m \u001b[39mimport\u001b[39;00m \u001b[39m*\u001b[39m\n\u001b[0;32m     12\u001b[0m __all__ \u001b[39m=\u001b[39m [s \u001b[39mfor\u001b[39;00m s \u001b[39min\u001b[39;00m \u001b[39mdir\u001b[39m() \u001b[39mif\u001b[39;00m \u001b[39mnot\u001b[39;00m s\u001b[39m.\u001b[39mstartswith(\u001b[39m'\u001b[39m\u001b[39m_\u001b[39m\u001b[39m'\u001b[39m)]\n",
      "File \u001b[1;32mc:\\Users\\kross\\anaconda3\\envs\\open-optical-gating\\lib\\site-packages\\scipy\\sparse\\linalg\\eigen\\arpack\\__init__.py:20\u001b[0m, in \u001b[0;36m<module>\u001b[1;34m\u001b[0m\n\u001b[0;32m      1\u001b[0m \u001b[39m\"\"\"\u001b[39;00m\n\u001b[0;32m      2\u001b[0m \u001b[39mEigenvalue solver using iterative methods.\u001b[39;00m\n\u001b[0;32m      3\u001b[0m \n\u001b[1;32m   (...)\u001b[0m\n\u001b[0;32m     18\u001b[0m \n\u001b[0;32m     19\u001b[0m \u001b[39m\"\"\"\u001b[39;00m\n\u001b[1;32m---> 20\u001b[0m \u001b[39mfrom\u001b[39;00m \u001b[39m.\u001b[39;00m\u001b[39marpack\u001b[39;00m \u001b[39mimport\u001b[39;00m \u001b[39m*\u001b[39m\n",
      "File \u001b[1;32mc:\\Users\\kross\\anaconda3\\envs\\open-optical-gating\\lib\\site-packages\\scipy\\sparse\\linalg\\eigen\\arpack\\arpack.py:51\u001b[0m, in \u001b[0;36m<module>\u001b[1;34m\u001b[0m\n\u001b[0;32m     49\u001b[0m \u001b[39mfrom\u001b[39;00m \u001b[39mscipy\u001b[39;00m\u001b[39m.\u001b[39;00m\u001b[39mlinalg\u001b[39;00m \u001b[39mimport\u001b[39;00m eig, eigh, lu_factor, lu_solve\n\u001b[0;32m     50\u001b[0m \u001b[39mfrom\u001b[39;00m \u001b[39mscipy\u001b[39;00m\u001b[39m.\u001b[39;00m\u001b[39msparse\u001b[39;00m\u001b[39m.\u001b[39;00m\u001b[39msputils\u001b[39;00m \u001b[39mimport\u001b[39;00m isdense, is_pydata_spmatrix\n\u001b[1;32m---> 51\u001b[0m \u001b[39mfrom\u001b[39;00m \u001b[39mscipy\u001b[39;00m\u001b[39m.\u001b[39;00m\u001b[39msparse\u001b[39;00m\u001b[39m.\u001b[39;00m\u001b[39mlinalg\u001b[39;00m \u001b[39mimport\u001b[39;00m gmres, splu\n\u001b[0;32m     52\u001b[0m \u001b[39mfrom\u001b[39;00m \u001b[39mscipy\u001b[39;00m\u001b[39m.\u001b[39;00m\u001b[39msparse\u001b[39;00m\u001b[39m.\u001b[39;00m\u001b[39mlinalg\u001b[39;00m\u001b[39m.\u001b[39;00m\u001b[39meigen\u001b[39;00m\u001b[39m.\u001b[39;00m\u001b[39mlobpcg\u001b[39;00m \u001b[39mimport\u001b[39;00m lobpcg\n\u001b[0;32m     53\u001b[0m \u001b[39mfrom\u001b[39;00m \u001b[39mscipy\u001b[39;00m\u001b[39m.\u001b[39;00m\u001b[39m_lib\u001b[39;00m\u001b[39m.\u001b[39;00m\u001b[39m_util\u001b[39;00m \u001b[39mimport\u001b[39;00m _aligned_zeros\n",
      "\u001b[1;31mImportError\u001b[0m: cannot import name 'gmres' from partially initialized module 'scipy.sparse.linalg' (most likely due to a circular import) (c:\\Users\\kross\\anaconda3\\envs\\open-optical-gating\\lib\\site-packages\\scipy\\sparse\\linalg\\__init__.py)"
     ]
    }
   ],
   "source": [
    "from scipy.optimize import curve_fit"
   ]
  },
  {
   "cell_type": "code",
   "execution_count": 1,
   "metadata": {},
   "outputs": [],
   "source": [
    "import matplotlib.pyplot as plt\n",
    "import numpy as np"
   ]
  },
  {
   "cell_type": "code",
   "execution_count": 2,
   "metadata": {},
   "outputs": [],
   "source": [
    "from classes.basic_optical_gating import BasicOpticalGating as BOG\n",
    "from classes.basic_optical_gating import AdaptiveSubframeEstimation as ASFE\n",
    "from classes.drawer import Peristalsis\n",
    "from classes.iplotter import iBasicOpticalGatingPlotter as IBOGP"
   ]
  },
  {
   "cell_type": "code",
   "execution_count": 3,
   "metadata": {},
   "outputs": [
    {
     "name": "stdout",
     "output_type": "stream",
     "text": [
      "\u001b[94mBOG\u001b[0m \u001b[94mi\u001b[0m Loading sequence... \u001b[96m(0.00s)\u001b[0m\n",
      "\u001b[92mBOG\u001b[0m \u001b[92m✓\u001b[0m Sequence loaded with 2000 frames \u001b[96m(1.42s)\u001b[0m\n",
      "\u001b[94mBOG\u001b[0m \u001b[94mi\u001b[0m Loading reference sequence... \u001b[96m(0.00s)\u001b[0m\n",
      "\u001b[92mBOG\u001b[0m \u001b[92m✓\u001b[0m Reference sequence loaded with 311 frames \u001b[96m(0.01s)\u001b[0m\n",
      "\u001b[94mBOG\u001b[0m \u001b[94mi\u001b[0m Setting reference period to None \u001b[96m(0.00s)\u001b[0m\n",
      "\u001b[94mBOG\u001b[0m \u001b[94mi\u001b[0m Calculating SADs... \u001b[96m(0.26s)\u001b[0m\n",
      "\u001b[92mBOG\u001b[0m \u001b[92m✓\u001b[0m SADs calculated \u001b[96m(4.39s)\u001b[0m\n",
      "\u001b[94mBOG\u001b[0m \u001b[94mi\u001b[0m Calculating SADs... \u001b[96m(0.00s)\u001b[0m\n",
      "\u001b[92mBOG\u001b[0m \u001b[92m✓\u001b[0m SADs calculated \u001b[96m(8.64s)\u001b[0m\n",
      "\u001b[94mBOG\u001b[0m \u001b[94mi\u001b[0m Calculating phases... \u001b[96m(0.00s)\u001b[0m\n",
      "\u001b[93mBOG\u001b[0m \u001b[93m⚠\u001b[0m Subframe minima outside range -1.1809516251216252 \u001b[96m(0.01s)\u001b[0m\n",
      "\u001b[93mBOG\u001b[0m \u001b[93m⚠\u001b[0m Subframe minima outside range -1.2729505820253615 \u001b[96m(0.00s)\u001b[0m\n",
      "\u001b[93mBOG\u001b[0m \u001b[93m⚠\u001b[0m Subframe minima outside range -1.6514048293934018 \u001b[96m(0.00s)\u001b[0m\n",
      "\u001b[93mBOG\u001b[0m \u001b[93m⚠\u001b[0m Subframe minima outside range 1.5274655414209617 \u001b[96m(0.00s)\u001b[0m\n",
      "\u001b[93mBOG\u001b[0m \u001b[93m⚠\u001b[0m Subframe minima outside range 1.2389907874583628 \u001b[96m(0.00s)\u001b[0m\n",
      "\u001b[93mBOG\u001b[0m \u001b[93m⚠\u001b[0m Subframe minima outside range 1.19413485171044 \u001b[96m(0.00s)\u001b[0m\n",
      "\u001b[93mBOG\u001b[0m \u001b[93m⚠\u001b[0m Subframe minima outside range 0.5532822826707683 \u001b[96m(0.01s)\u001b[0m\n",
      "\u001b[93mBOG\u001b[0m \u001b[93m⚠\u001b[0m Subframe minima outside range 0.5189023782546307 \u001b[96m(0.00s)\u001b[0m\n",
      "\u001b[92mBOG\u001b[0m \u001b[92m✓\u001b[0m Phases calculated \u001b[96m(0.00s)\u001b[0m\n",
      "\u001b[94mBOG\u001b[0m \u001b[94mi\u001b[0m Calculating delta phases... \u001b[96m(0.00s)\u001b[0m\n",
      "\u001b[92mBOG\u001b[0m \u001b[92m✓\u001b[0m Delta phases calculated \u001b[96m(0.00s)\u001b[0m\n",
      "\u001b[94mBOG\u001b[0m \u001b[94mi\u001b[0m Unwrapping phases... \u001b[96m(0.00s)\u001b[0m\n",
      "\u001b[92mBOG\u001b[0m \u001b[92m✓\u001b[0m Unwrapped phases calculated \u001b[96m(0.00s)\u001b[0m\n",
      "\u001b[92mBOG\u001b[0m \u001b[92m✓\u001b[0m Finished processing sequence. \u001b[96m(0.00s)\u001b[0m\n"
     ]
    }
   ],
   "source": [
    "og = ASFE()\n",
    "og.logger.set_debug()\n",
    "og.set_sequence(\"D:/Data/both 800fps/brightfield/*tif\")\n",
    "og.set_reference_sequence(\"D:/Data/both 800fps/ref_seq.tif\")\n",
    "og.set_reference_period(3.062623721828068710e+02)\n",
    "og.run()"
   ]
  }
 ],
 "metadata": {
  "kernelspec": {
   "display_name": "open-optical-gating",
   "language": "python",
   "name": "python3"
  },
  "language_info": {
   "codemirror_mode": {
    "name": "ipython",
    "version": 3
   },
   "file_extension": ".py",
   "mimetype": "text/x-python",
   "name": "python",
   "nbconvert_exporter": "python",
   "pygments_lexer": "ipython3",
   "version": "3.9.13"
  },
  "orig_nbformat": 4
 },
 "nbformat": 4,
 "nbformat_minor": 2
}
